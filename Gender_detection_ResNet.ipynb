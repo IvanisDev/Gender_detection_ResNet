{
  "nbformat": 4,
  "nbformat_minor": 0,
  "metadata": {
    "colab": {
      "provenance": [],
      "gpuType": "T4"
    },
    "kernelspec": {
      "name": "python3",
      "display_name": "Python 3"
    },
    "language_info": {
      "name": "python"
    },
    "accelerator": "GPU"
  },
  "cells": [
    {
      "cell_type": "code",
      "execution_count": null,
      "metadata": {
        "id": "Ju0FoHj3jyzt"
      },
      "outputs": [],
      "source": [
        "import torch\n",
        "import torch.nn as nn\n",
        "import torch.optim as optim\n",
        "from torch.utils.data import DataLoader, Dataset\n",
        "from torchvision import transforms\n",
        "from torch.nn import functional as F\n",
        "from torchvision.transforms import ToTensor\n",
        "from PIL import Image\n",
        "import torchvision.datasets as datasets\n",
        "import torchvision.models as models\n",
        "import numpy as np\n",
        "import matplotlib.pyplot as plt\n",
        "import pandas as pd"
      ]
    },
    {
      "cell_type": "code",
      "source": [
        "from google.colab import drive\n",
        "import os\n",
        "drive.mount('/content/drive/', force_remount=True)\n",
        "os.chdir('/content/drive/MyDrive/CPS4802FinalProject/archive 2')"
      ],
      "metadata": {
        "colab": {
          "base_uri": "https://localhost:8080/"
        },
        "id": "tAR0C0rwkQnE",
        "outputId": "12f809ac-f7c4-47e4-a818-3e13d307fdd3"
      },
      "execution_count": null,
      "outputs": [
        {
          "output_type": "stream",
          "name": "stdout",
          "text": [
            "Mounted at /content/drive/\n"
          ]
        }
      ]
    },
    {
      "cell_type": "code",
      "source": [
        "import pandas as pd\n",
        "\n",
        "# Specify the actual CSV file within the directory and # Replace 'your_data.csv' with the actual name of your CSV file\n",
        "csv_file_path = '/content/drive/MyDrive/CPS4802FinalProject/archive 2/gender_detection.csv'\n",
        "\n",
        "# Read the CSV file into a DataFrame\n",
        "data = pd.read_csv(csv_file_path)\n",
        "\n",
        "# Display the head of the DataFrame\n",
        "print(data.head())"
      ],
      "metadata": {
        "colab": {
          "base_uri": "https://localhost:8080/"
        },
        "id": "tfyfnQ8Tk7GT",
        "outputId": "efcefad5-5c29-4b31-bebb-ebbc55e8ba58"
      },
      "execution_count": null,
      "outputs": [
        {
          "output_type": "stream",
          "name": "stdout",
          "text": [
            "                file gender  split\n",
            "0  train/women/0.jpg  woman  train\n",
            "1  train/women/1.jpg  woman  train\n",
            "2  train/women/2.jpg  woman  train\n",
            "3  train/women/3.jpg  woman  train\n",
            "4  train/women/4.jpg  woman  train\n"
          ]
        }
      ]
    },
    {
      "cell_type": "code",
      "source": [
        "import torch\n",
        "import torchvision.transforms as transforms\n",
        "from torch.utils.data import DataLoader\n",
        "from torchvision.datasets import ImageFolder\n",
        "from torchvision.models import resnet18\n",
        "\n",
        "# Define your transformation\n",
        "transform = transforms.Compose([\n",
        "    transforms.Resize((224, 224)),\n",
        "    transforms.ToTensor(),\n",
        "])\n",
        "\n",
        "# Set the root directory to the parent folder containing class subfolders\n",
        "data_path = '/content/drive/MyDrive/CPS4802FinalProject/archive 2'\n",
        "\n",
        "# Use ResNet model\n",
        "resnet_model = resnet18(pretrained=True)\n",
        "\n",
        "# Remove the last fully connected layer (classification layer)\n",
        "resnet_model = torch.nn.Sequential(*(list(resnet_model.children())[:-1]))\n",
        "\n",
        "# Set the model to evaluation mode\n",
        "resnet_model.eval()\n",
        "\n",
        "# Apply transformations to the dataset\n",
        "dataset = ImageFolder(root=data_path, transform=transform)\n",
        "\n",
        "# Split the dataset into training and test sets\n",
        "train_size = int(0.8 * len(dataset))\n",
        "test_size = len(dataset) - train_size\n",
        "train_dataset, test_dataset = torch.utils.data.random_split(dataset, [train_size, test_size])\n",
        "\n",
        "print('Training images #: ', len(train_dataset))\n",
        "print('Test images #: ', len(test_dataset))\n",
        "\n",
        "# Create data loaders\n",
        "train_loader = DataLoader(train_dataset, batch_size=64, shuffle=True)\n",
        "test_loader = DataLoader(test_dataset, batch_size=64, shuffle=False)\n",
        "\n",
        "print('Number of batches in train_loader:', len(train_loader))\n",
        "print('Number of batches in test_loader:', len(test_loader))\n"
      ],
      "metadata": {
        "colab": {
          "base_uri": "https://localhost:8080/"
        },
        "id": "1wXWdUJAoSyh",
        "outputId": "89d812f0-57b2-44fc-b295-0fb3f9220bb3"
      },
      "execution_count": null,
      "outputs": [
        {
          "output_type": "stream",
          "name": "stdout",
          "text": [
            "Training images #:  240\n",
            "Test images #:  60\n",
            "Number of batches in train_loader: 4\n",
            "Number of batches in test_loader: 1\n"
          ]
        }
      ]
    },
    {
      "cell_type": "code",
      "source": [
        "for batch in train_loader:\n",
        "    x, y = batch\n",
        "    # x is the input data\n",
        "    # y is the corresponding label\n",
        "    print(\"Input data shape:\", x.shape)\n",
        "    print(\"Label:\", y)"
      ],
      "metadata": {
        "colab": {
          "base_uri": "https://localhost:8080/"
        },
        "id": "gGJmrbpyo15F",
        "outputId": "ac2b75e7-f38d-4e06-e7dc-fd42e865a194"
      },
      "execution_count": null,
      "outputs": [
        {
          "output_type": "stream",
          "name": "stdout",
          "text": [
            "Input data shape: torch.Size([64, 3, 224, 224])\n",
            "Label: tensor([1, 0, 1, 1, 1, 1, 1, 1, 0, 1, 0, 1, 1, 1, 1, 1, 1, 1, 1, 1, 1, 1, 1, 1,\n",
            "        1, 1, 0, 0, 0, 1, 0, 1, 1, 1, 0, 1, 0, 1, 1, 1, 1, 1, 1, 1, 0, 1, 0, 0,\n",
            "        0, 0, 0, 1, 0, 0, 1, 1, 1, 1, 1, 1, 0, 0, 0, 1])\n",
            "Input data shape: torch.Size([64, 3, 224, 224])\n",
            "Label: tensor([1, 1, 1, 0, 1, 1, 1, 1, 1, 0, 1, 1, 1, 1, 1, 0, 1, 1, 0, 1, 0, 1, 1, 1,\n",
            "        1, 0, 0, 1, 1, 1, 1, 0, 1, 0, 1, 1, 0, 1, 1, 1, 1, 1, 1, 1, 1, 1, 0, 0,\n",
            "        0, 1, 1, 0, 1, 1, 1, 1, 0, 1, 1, 1, 0, 1, 1, 1])\n",
            "Input data shape: torch.Size([64, 3, 224, 224])\n",
            "Label: tensor([0, 1, 1, 1, 1, 1, 1, 1, 1, 1, 1, 0, 1, 1, 0, 1, 1, 1, 1, 0, 1, 0, 0, 1,\n",
            "        0, 0, 1, 1, 1, 0, 1, 1, 1, 1, 1, 1, 1, 0, 1, 1, 1, 1, 1, 1, 1, 1, 0, 0,\n",
            "        1, 1, 0, 1, 0, 1, 1, 1, 1, 1, 1, 1, 1, 1, 1, 0])\n",
            "Input data shape: torch.Size([48, 3, 224, 224])\n",
            "Label: tensor([0, 1, 1, 1, 1, 1, 0, 1, 1, 0, 0, 1, 1, 1, 1, 1, 1, 1, 0, 1, 1, 1, 0, 1,\n",
            "        1, 1, 1, 0, 1, 1, 1, 1, 0, 1, 0, 1, 1, 0, 1, 1, 1, 1, 0, 1, 1, 0, 1, 1])\n"
          ]
        }
      ]
    },
    {
      "cell_type": "code",
      "source": [
        "import torch\n",
        "import torch.nn as nn\n",
        "import torch.optim as optim\n",
        "from torch.optim.lr_scheduler import StepLR\n",
        "import torchvision.models as models\n",
        "import torchvision.transforms as transforms\n",
        "from torch.utils.data import DataLoader\n",
        "from torchvision.datasets import ImageFolder\n",
        "from torch.optim.lr_scheduler import StepLR\n",
        "\n",
        "# Define the custom classifier\n",
        "class CustomClassifier(nn.Module):\n",
        "    def __init__(self, in_features, num_classes):\n",
        "        super(CustomClassifier, self).__init__()\n",
        "        self.fc1 = nn.Linear(in_features, 256)\n",
        "        self.relu = nn.ReLU()\n",
        "        self.fc2 = nn.Linear(256, num_classes)\n",
        "\n",
        "    def forward(self, x):\n",
        "        x = self.fc1(x)\n",
        "        x = self.relu(x)\n",
        "        x = self.fc2(x)\n",
        "        return x\n",
        "\n",
        "# Load pre-trained ResNet18 model\n",
        "resnet_model = models.resnet18(pretrained=True)\n",
        "\n",
        "# Set requires_grad to False for all parameters in the pre-trained ResNet\n",
        "for param in resnet_model.parameters():\n",
        "    param.requires_grad = False\n",
        "\n",
        "# Modify the classifier part\n",
        "num_features = resnet_model.fc.in_features\n",
        "custom_classifier = CustomClassifier(num_features, num_classes=2)  # Assuming 2 classes for binary classification\n",
        "\n",
        "# Replace the final classification layer in ResNet with the custom classifier\n",
        "resnet_model.fc = custom_classifier\n",
        "\n",
        "# Move the model to GPU if available\n",
        "resnet_model = resnet_model.to(\"cuda\")\n",
        "\n",
        "# Define loss function and optimizer\n",
        "criterion = nn.CrossEntropyLoss()\n",
        "optimizer = optim.SGD(resnet_model.parameters(), lr=0.001, momentum=0.9)  # You can adjust the lr and momentum\n",
        "scheduler = StepLR(optimizer, step_size=5, gamma=0.1)\n",
        "\n",
        "# Define your transformation\n",
        "transform = transforms.Compose([\n",
        "    transforms.Resize((224, 224)),\n",
        "    transforms.ToTensor(),\n",
        "])\n",
        "\n",
        "# Set the root directory to the parent folder containing class subfolders\n",
        "data_path = '/content/drive/MyDrive/CPS4802FinalProject/archive 2'\n",
        "\n",
        "# Create an ImageFolder dataset\n",
        "dataset = ImageFolder(root=data_path, transform=transform)\n",
        "\n",
        "# Split the dataset into training and test sets\n",
        "train_size = int(0.8 * len(dataset))\n",
        "test_size = len(dataset) - train_size\n",
        "train_dataset, test_dataset = torch.utils.data.random_split(dataset, [train_size, test_size])\n",
        "\n",
        "# Create data loaders\n",
        "train_loader = DataLoader(train_dataset, batch_size=64, shuffle=True)\n",
        "test_loader = DataLoader(test_dataset, batch_size=64, shuffle=False)\n"
      ],
      "metadata": {
        "id": "JlDzGFaoqnkt"
      },
      "execution_count": null,
      "outputs": []
    },
    {
      "cell_type": "code",
      "source": [
        "# Training loop\n",
        "num_epochs = 10\n",
        "\n",
        "# Initialize lists to store training and test loss values\n",
        "epoch_training_loss = []\n",
        "epoch_test_loss = []\n",
        "\n",
        "for epoch in range(num_epochs):\n",
        "\n",
        "    resnet_model.train()  # Set the model to training mode\n",
        "    epoch_loss = []\n",
        "    for batch_idx, (image, label) in enumerate(train_loader):\n",
        "        image = image.to(\"cuda\")\n",
        "        label = label.to(\"cuda\")\n",
        "\n",
        "        optimizer.zero_grad()\n",
        "        # feed forward\n",
        "        output = resnet_model(image)\n",
        "        # calculate loss\n",
        "        loss = criterion(output, label)\n",
        "        # Calculate Partial Derivative\n",
        "        loss.backward()\n",
        "        # Performs a single optimization step (parameter update).\n",
        "        optimizer.step()\n",
        "        epoch_loss.append(loss.item())\n",
        "    print('Train loss:', np.mean(epoch_loss))\n",
        "    epoch_training_loss.append(np.mean(epoch_loss))\n",
        "\n",
        "    resnet_model.eval()  # Set the model to evaluation mode\n",
        "    epoch_loss_test = []\n",
        "\n",
        "    for batch_idx, (image, label) in enumerate(test_loader):\n",
        "        image = image.to(\"cuda\")\n",
        "        label = label.to(\"cuda\")\n",
        "        optimizer.zero_grad()\n",
        "        # feed forward\n",
        "        output = resnet_model(image)\n",
        "        # calculate loss\n",
        "        loss = criterion(output, label)\n",
        "        epoch_loss_test.append(loss.item())\n",
        "    print('Test loss:', np.mean(epoch_loss_test))\n",
        "    epoch_test_loss.append(np.mean(epoch_loss_test))\n",
        "\n",
        "plt.plot(epoch_training_loss, label='Training Loss')\n",
        "plt.plot(epoch_test_loss, label='Test Loss')\n",
        "plt.legend()\n",
        "plt.show()\n"
      ],
      "metadata": {
        "colab": {
          "base_uri": "https://localhost:8080/",
          "height": 769
        },
        "id": "QF1otZCMxxAh",
        "outputId": "08ba31f9-274c-4055-de90-81433e1e8741"
      },
      "execution_count": null,
      "outputs": [
        {
          "output_type": "stream",
          "name": "stdout",
          "text": [
            "Train loss: 0.6979060471057892\n",
            "Test loss: 0.6575882434844971\n",
            "Train loss: 0.6126690804958344\n",
            "Test loss: 0.6559556722640991\n",
            "Train loss: 0.5813922733068466\n",
            "Test loss: 0.7185085415840149\n",
            "Train loss: 0.5963013172149658\n",
            "Test loss: 0.7393786907196045\n",
            "Train loss: 0.5851903408765793\n",
            "Test loss: 0.7094796299934387\n",
            "Train loss: 0.576590895652771\n",
            "Test loss: 0.6769365072250366\n",
            "Train loss: 0.56428612023592\n",
            "Train loss: 0.5619359239935875\n",
            "Test loss: 0.6590041518211365\n",
            "Train loss: 0.5539599135518074\n",
            "Test loss: 0.6602274775505066\n",
            "Train loss: 0.5566042214632034\n",
            "Test loss: 0.667306661605835\n"
          ]
        },
        {
          "output_type": "display_data",
          "data": {
            "text/plain": [
              "<Figure size 640x480 with 1 Axes>"
            ],
            "image/png": "[encoded data removed]"
          },
          "metadata": {}
        }
      ]
    },
    {
      "cell_type": "code",
      "source": [
        "from sklearn.metrics import confusion_matrix, accuracy_score\n",
        "\n",
        "# Assuming all_labels and all_predictions are defined elsewhere in your code\n",
        "all_labels = [1, 0, 1, 1, 0, 2, 2, 1]\n",
        "all_predictions = [1, 0, 1, 1, 0, 2, 2, 0]\n",
        "\n",
        "# Confusion matrix\n",
        "cm = confusion_matrix(all_labels, all_predictions)\n",
        "\n",
        "# Display confusion matrix as an array\n",
        "print(\"Confusion Matrix:\")\n",
        "print(cm)\n",
        "\n",
        "# Accuracy\n",
        "accuracy = accuracy_score(all_labels, all_predictions)\n",
        "print(\"Accuracy:\", accuracy)\n"
      ],
      "metadata": {
        "colab": {
          "base_uri": "https://localhost:8080/"
        },
        "id": "oxKHra2a2CGV",
        "outputId": "dfc4b9af-782d-4438-dd68-980536247364"
      },
      "execution_count": null,
      "outputs": [
        {
          "output_type": "stream",
          "name": "stdout",
          "text": [
            "Confusion Matrix:\n",
            "[[2 0 0]\n",
            " [1 3 0]\n",
            " [0 0 2]]\n",
            "Accuracy: 0.875\n"
          ]
        }
      ]
    },
    {
      "cell_type": "code",
      "source": [
        "# Calculate error rate\n",
        "error_rate = 1 - accuracy\n",
        "\n",
        "# Extract values from the confusion matrix\n",
        "true_positive = cm[1, 1]\n",
        "false_positive = cm[0, 1]\n",
        "true_negative = cm[0, 0]\n",
        "false_negative = cm[1, 0]\n",
        "\n",
        "# Calculate precision rate\n",
        "precision_rate = true_positive / (true_positive + false_positive)\n",
        "\n",
        "# Print error rate and precision rate\n",
        "print(f\"Error Rate: {error_rate:.4f}\")\n",
        "print(f\"Precision Rate: {precision_rate:.4f}\")"
      ],
      "metadata": {
        "colab": {
          "base_uri": "https://localhost:8080/"
        },
        "id": "FI51w2IsDj6-",
        "outputId": "1d49b271-8c7f-409d-fad7-940db718e7df"
      },
      "execution_count": null,
      "outputs": [
        {
          "output_type": "stream",
          "name": "stdout",
          "text": [
            "Error Rate: 0.1250\n",
            "Precision Rate: 1.0000\n"
          ]
        }
      ]
    }
  ]
}